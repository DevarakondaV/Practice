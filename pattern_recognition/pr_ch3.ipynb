{
 "cells": [
  {
   "cell_type": "code",
   "execution_count": 1,
   "metadata": {},
   "outputs": [],
   "source": [
    "#Linear Regression Models\n",
    "#Chapter 3\n",
    "import numpy as np\n",
    "import matplotlib.pyplot as plt"
   ]
  },
  {
   "cell_type": "code",
   "execution_count": 2,
   "metadata": {
    "collapsed": true
   },
   "outputs": [],
   "source": [
    "def sin(x):\n",
    "    return np.sin(2*np.pi*x)\n",
    "\n",
    "def gauss_basis(x,mu,s):\n",
    "    n = np.power(x-mu,2)\n",
    "    d = 2*np.power(s,2)\n",
    "    f = float(n)/d\n",
    "    return np.exp(-f)\n",
    "\n",
    "#returns wegihts based on zero mean gaussian\n",
    "def get_weights(numb):\n",
    "    return np.random.normal(0,.5,numb)"
   ]
  },
  {
   "cell_type": "code",
   "execution_count": 22,
   "metadata": {},
   "outputs": [
    {
     "data": {
      "image/png": "[encoded data removed]",
      "text/plain": [
       "<matplotlib.figure.Figure at 0x1b01b2b5208>"
      ]
     },
     "metadata": {},
     "output_type": "display_data"
    }
   ],
   "source": [
    "x = np.arange(0,3,.03)\n",
    "np.random.shuffle(x)\n",
    "y = 10*sin(x)\n",
    "pts = np.stack((x,y),axis=1)\n",
    "\n",
    "x = pts[:,0]\n",
    "plt.plot(x,pts[:,1],'.')\n",
    "plt.show()"
   ]
  },
  {
   "cell_type": "code",
   "execution_count": null,
   "metadata": {
    "collapsed": true
   },
   "outputs": [],
   "source": []
  }
 ],
 "metadata": {
  "kernelspec": {
   "display_name": "Python 3",
   "language": "python",
   "name": "python3"
  },
  "language_info": {
   "codemirror_mode": {
    "name": "ipython",
    "version": 3
   },
   "file_extension": ".py",
   "mimetype": "text/x-python",
   "name": "python",
   "nbconvert_exporter": "python",
   "pygments_lexer": "ipython3",
   "version": "3.6.1"
  }
 },
 "nbformat": 4,
 "nbformat_minor": 2
}
